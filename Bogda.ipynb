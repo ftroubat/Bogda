{
  "nbformat": 4,
  "nbformat_minor": 0,
  "metadata": {
    "colab": {
      "name": "Untitled1.ipynb",
      "provenance": [],
      "private_outputs": true,
      "authorship_tag": "ABX9TyOXb4f1FcN9TtZi4YUsYiTt",
      "include_colab_link": true
    },
    "kernelspec": {
      "name": "python3",
      "display_name": "Python 3"
    }
  },
  "cells": [
    {
      "cell_type": "markdown",
      "metadata": {
        "id": "view-in-github",
        "colab_type": "text"
      },
      "source": [
        "<a href=\"https://colab.research.google.com/github/ftroubat/Bogda/blob/master/Bogda.ipynb\" target=\"_parent\"><img src=\"https://colab.research.google.com/assets/colab-badge.svg\" alt=\"Open In Colab\"/></a>"
      ]
    },
    {
      "cell_type": "markdown",
      "metadata": {
        "id": "Cw7J93AvZK_H",
        "colab_type": "text"
      },
      "source": [
        "# La magie des frères Bogdanov\n",
        "**1.** Regarder la [vidéo extraite de l'émission de télévision \"On n'est pas couché\"](https://youtu.be/OdnRBagmUs8), dans laquelle les frères Bogdnov réalisent un \"tour de magie\".\n",
        "\n",
        "\n"
      ]
    },
    {
      "cell_type": "markdown",
      "metadata": {
        "id": "PHoxboAca-V-",
        "colab_type": "text"
      },
      "source": [
        "**2.** Faire trois fois l'expérience proposée dans la vidéo et noter les résultats obtenus."
      ]
    },
    {
      "cell_type": "markdown",
      "metadata": {
        "id": "Xn-9On5RcT0X",
        "colab_type": "text"
      },
      "source": [
        "**3.** Algorithme en langage naturel : Écrire, en les numérotant de 1 à 5, les instructions données pour réaliser l'expérience.\n"
      ]
    },
    {
      "cell_type": "markdown",
      "metadata": {
        "id": "27CDmB1GbKvN",
        "colab_type": "text"
      },
      "source": [
        "**4.** Codage en langage Python.\n",
        "\n",
        "---\n",
        "**On va décomposer chacune des étapes précédentes pour tester une à une les lignes de code.**\n"
      ]
    },
    {
      "cell_type": "code",
      "metadata": {
        "id": "xZgpK5AOj_FP",
        "colab_type": "code",
        "colab": {}
      },
      "source": [
        "#Initialisation du nombre - Modfier la valeur de n et exécuter le code \n",
        "#en cliquant sur la flèche de gauche ou bien par \"Maj+Entrée\" au clavier\n",
        "n=56\n",
        "print(n)"
      ],
      "execution_count": null,
      "outputs": []
    },
    {
      "cell_type": "code",
      "metadata": {
        "id": "PgevYffEiwkM",
        "colab_type": "code",
        "colab": {}
      },
      "source": [
        "#Fonction pour calculer le \"nombre suivant\" (exécuter le code pour vérifier le résultat)\n",
        "def nombre_suivant(n):\n",
        "  return n+1\n",
        "print (nombre_suivant(n))\n"
      ],
      "execution_count": null,
      "outputs": []
    },
    {
      "cell_type": "code",
      "metadata": {
        "id": "7P409cMkjsK3",
        "colab_type": "code",
        "colab": {}
      },
      "source": [
        ""
      ],
      "execution_count": null,
      "outputs": []
    },
    {
      "cell_type": "code",
      "metadata": {
        "colab_type": "code",
        "id": "b1Bh0UxmqmK8",
        "colab": {}
      },
      "source": [
        "#Fonction pour additionner le nombre initial et son suivant\n",
        "#Exécuter le code plusieurs fois en changeant la valeur de n dans \"Initialisation du nombre\"\n",
        "def addition_nombre_et_suivant(n):\n",
        "  return n+n+1\n",
        "print (addition_nombre_et_suivant(n))\n",
        "resultat = addition_nombre_et_suivant(n)\n"
      ],
      "execution_count": null,
      "outputs": []
    },
    {
      "cell_type": "code",
      "metadata": {
        "colab_type": "code",
        "id": "oIDQVTLUrvSh",
        "colab": {}
      },
      "source": [
        "#Fonction pour ajouter 9 au résultat\n",
        "def addition_9(resultat):\n",
        "  return resultat+9\n",
        "print (addition_9(resultat))\n",
        "resultat=addition_9(resultat)\n"
      ],
      "execution_count": null,
      "outputs": []
    },
    {
      "cell_type": "code",
      "metadata": {
        "colab_type": "code",
        "id": "EQ86IeExtGu2",
        "colab": {}
      },
      "source": [
        "#Fonction pour diviser le résultat par 2\n",
        "def division_par_2(resultat):\n",
        "  return resultat/2\n",
        "print (division_par_2(resultat))\n",
        "resultat=division_par_2(resultat)"
      ],
      "execution_count": null,
      "outputs": []
    },
    {
      "cell_type": "code",
      "metadata": {
        "colab_type": "code",
        "id": "CzZ0qyEHuHj9",
        "colab": {}
      },
      "source": [
        "#Fonction pour soustraire le nombre initial au résultat précédent\n",
        "def soustraire_nombre_initial(resultat):\n",
        "  return resultat-n\n",
        "resultat_final=soustraire_nombre_initial(resultat)\n",
        "print(resultat_final)"
      ],
      "execution_count": null,
      "outputs": []
    },
    {
      "cell_type": "markdown",
      "metadata": {
        "id": "pzI7suHTtQW9",
        "colab_type": "text"
      },
      "source": [
        ""
      ]
    }
  ]
}