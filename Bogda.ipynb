{
  "metadata": {
    "colab": {
      "name": "Untitled1.ipynb",
      "provenance": [],
      "private_outputs": true,
      "authorship_tag": "ABX9TyOXb4f1FcN9TtZi4YUsYiTt",
      "include_colab_link": true
    },
    "kernelspec": {
      "name": "python3",
      "display_name": "Python 3",
      "language": "python"
    },
    "language_info": {
      "mimetype": "text/x-python",
      "nbconvert_exporter": "python",
      "name": "python",
      "pygments_lexer": "ipython3",
      "version": "3.5.4",
      "file_extension": ".py",
      "codemirror_mode": {
        "version": 3,
        "name": "ipython"
      }
    }
  },
  "nbformat_minor": 2,
  "nbformat": 4,
  "cells": [
    {
      "cell_type": "markdown",
      "source": "<a href=\"https://colab.research.google.com/github/ftroubat/Bogda/blob/master/Bogda.ipynb\" target=\"_parent\"><img src=\"https://colab.research.google.com/assets/colab-badge.svg\" alt=\"Open In Colab\"/></a>",
      "metadata": {
        "id": "view-in-github",
        "colab_type": "text"
      }
    },
    {
      "cell_type": "markdown",
      "source": "# La magie des frères Bogdanov\n**1.** Regarder la vidéo extraite de l'émission de télévision \"On n'est pas couché\", dans laquelle les frères Bogdnov réalisent un \"tour de magie\"\n\n\n",
      "metadata": {
        "id": "Cw7J93AvZK_H",
        "colab_type": "text"
      }
    },
    {
      "cell_type": "code",
      "source": "from IPython.display import HTML\nHTML('<iframe width=\"560\" height=\"315\" src=\"https://www.youtube.com/embed/OdnRBagmUs8\" frameborder=\"0\" allow=\"accelerometer; autoplay; encrypted-media; gyroscope; picture-in-picture\" allowfullscreen></iframe>')",
      "metadata": {
        "trusted": true
      },
      "execution_count": 2,
      "outputs": [
        {
          "execution_count": 2,
          "output_type": "execute_result",
          "data": {
            "text/plain": "<IPython.core.display.HTML object>",
            "text/html": "<iframe width=\"560\" height=\"315\" src=\"https://www.youtube.com/embed/OdnRBagmUs8\" frameborder=\"0\" allow=\"accelerometer; autoplay; encrypted-media; gyroscope; picture-in-picture\" allowfullscreen></iframe>"
          },
          "metadata": {}
        }
      ]
    },
    {
      "cell_type": "markdown",
      "source": "**2.** Faire trois fois l'expérience proposée dans la vidéo et noter ci-dessous le(s) résultat(s) obtenu(s).",
      "metadata": {
        "id": "PHoxboAca-V-",
        "colab_type": "text"
      }
    },
    {
      "cell_type": "code",
      "source": "import ipywidgets as widgets\nwidgets.Text(\n    value='',\n    placeholder='saisir votre réponse',\n    description='Réponse:',\n    disabled=False\n)",
      "metadata": {
        "slideshow": {
          "slide_type": "notes"
        },
        "trusted": true
      },
      "execution_count": 11,
      "outputs": [
        {
          "output_type": "display_data",
          "data": {
            "application/vnd.jupyter.widget-view+json": {
              "model_id": "eec4a3eacc2947d18b8b6bb924ac9872",
              "version_minor": 0,
              "version_major": 2
            },
            "text/plain": "Text(value='', description='Réponse:', placeholder='saisir votre réponse')"
          },
          "metadata": {}
        }
      ]
    },
    {
      "cell_type": "markdown",
      "source": "**3.** Algorithme en langage naturel : Écrire, en les numérotant de 1 à 5, les instructions données pour réaliser l'expérience.\n",
      "metadata": {
        "id": "Xn-9On5RcT0X",
        "colab_type": "text"
      }
    },
    {
      "cell_type": "markdown",
      "source": "# Codage en langage Python.\n\n---\n**On va décomposer chacune des étapes précédentes pour tester une à une les lignes de code.**\n",
      "metadata": {
        "id": "27CDmB1GbKvN",
        "colab_type": "text"
      }
    },
    {
      "cell_type": "code",
      "source": "# Initialisation du nombre - Modifier la valeur de n et exécuter le code \n#en cliquant sur le bouton \"Run\" dans la bare d'outils ou bien par \"Maj+Entrée\" ou \"Ctrl+Entré\" au clavier\nn=58\nprint(n)",
      "metadata": {
        "id": "xZgpK5AOj_FP",
        "colab_type": "code",
        "colab": {},
        "trusted": true
      },
      "execution_count": 5,
      "outputs": [
        {
          "text": "58\n",
          "name": "stdout",
          "output_type": "stream"
        }
      ]
    },
    {
      "cell_type": "code",
      "source": "#Fonction pour calculer le \"nombre suivant\" (exécuter le code pour vérifier le résultat)\ndef nombre_suivant(x):\n  return x+1\nresultat=nombre_suivant(n)\nprint(resultat)\n",
      "metadata": {
        "id": "PgevYffEiwkM",
        "colab_type": "code",
        "colab": {},
        "trusted": true
      },
      "execution_count": 6,
      "outputs": [
        {
          "text": "59\n",
          "name": "stdout",
          "output_type": "stream"
        }
      ]
    },
    {
      "cell_type": "code",
      "source": "#Fonction pour additionner le nombre initial et son suivant\n#Exécuter le code plusieurs fois en changeant la valeur de n dans \"Initialisation du nombre\"\ndef addition_nombre_et_suivant(x):\n  return x+x+1\nresultat = addition_nombre_et_suivant(n)\nprint (resultat)\n\n",
      "metadata": {
        "colab_type": "code",
        "id": "b1Bh0UxmqmK8",
        "colab": {},
        "trusted": true
      },
      "execution_count": 7,
      "outputs": [
        {
          "text": "117\n",
          "name": "stdout",
          "output_type": "stream"
        }
      ]
    },
    {
      "cell_type": "code",
      "source": "#Fonction pour ajouter 9 au résultat\ndef addition_9(x):\n  return x+9\nresultat=addition_9(resultat)\nprint (resultat)\n\n",
      "metadata": {
        "colab_type": "code",
        "id": "oIDQVTLUrvSh",
        "colab": {},
        "trusted": true
      },
      "execution_count": 8,
      "outputs": [
        {
          "text": "126\n",
          "name": "stdout",
          "output_type": "stream"
        }
      ]
    },
    {
      "cell_type": "code",
      "source": "#Fonction pour diviser le résultat par 2\ndef division_par_2(x):\n  return x/2\nresultat=division_par_2(resultat)\nprint (resultat)\n",
      "metadata": {
        "colab_type": "code",
        "id": "EQ86IeExtGu2",
        "colab": {},
        "trusted": true
      },
      "execution_count": 9,
      "outputs": [
        {
          "text": "63.0\n",
          "name": "stdout",
          "output_type": "stream"
        }
      ]
    },
    {
      "cell_type": "code",
      "source": "#Fonction pour soustraire le nombre initial au résultat précédent\ndef soustraire_nombre_initial(x):\n  return x-n\nresultat_final=soustraire_nombre_initial(resultat)\nprint(resultat_final)",
      "metadata": {
        "colab_type": "code",
        "id": "CzZ0qyEHuHj9",
        "colab": {},
        "trusted": true
      },
      "execution_count": 10,
      "outputs": [
        {
          "text": "5.0\n",
          "name": "stdout",
          "output_type": "stream"
        }
      ]
    },
    {
      "cell_type": "markdown",
      "source": "",
      "metadata": {
        "id": "pzI7suHTtQW9",
        "colab_type": "text"
      }
    }
  ]
}