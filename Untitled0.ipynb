{
  "nbformat": 4,
  "nbformat_minor": 0,
  "metadata": {
    "colab": {
      "name": "Untitled0.ipynb",
      "provenance": []
    },
    "kernelspec": {
      "name": "python3",
      "display_name": "Python 3"
    }
  },
  "cells": [
    {
      "cell_type": "markdown",
      "metadata": {
        "id": "I20DanyHzUCT",
        "colab_type": "text"
      },
      "source": [
        ""
      ]
    },
    {
      "cell_type": "markdown",
      "metadata": {
        "id": "ljyp7Wq5zWVa",
        "colab_type": "text"
      },
      "source": [
        "# Premier programme\n",
        "Nous allons découvrir un notebook jupyter!\n",
        "\n",
        "\n"
      ]
    },
    {
      "cell_type": "markdown",
      "metadata": {
        "id": "y1zSCWf00tMf",
        "colab_type": "text"
      },
      "source": [
        "**Travail à faire :**\n",
        "Modifier la valeur de a pour atteindr le nombre cible !\n"
      ]
    },
    {
      "cell_type": "code",
      "metadata": {
        "id": "kilt-AD8z0zq",
        "colab_type": "code",
        "outputId": "6ebc075c-39b8-411a-e060-373a8782c25e",
        "colab": {
          "base_uri": "https://localhost:8080/",
          "height": 34
        }
      },
      "source": [
        "a=9\n",
        "print(a)"
      ],
      "execution_count": 2,
      "outputs": [
        {
          "output_type": "stream",
          "text": [
            "9\n"
          ],
          "name": "stdout"
        }
      ]
    },
    {
      "cell_type": "code",
      "metadata": {
        "id": "T7XtDloRzRqE",
        "colab_type": "code",
        "colab": {}
      },
      "source": [
        ""
      ],
      "execution_count": 0,
      "outputs": []
    }
  ]
}